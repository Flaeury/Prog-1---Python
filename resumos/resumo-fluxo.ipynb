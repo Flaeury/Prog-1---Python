{
 "cells": [
  {
   "cell_type": "markdown",
   "metadata": {},
   "source": [
    "Continue - pula iterações"
   ]
  },
  {
   "cell_type": "code",
   "execution_count": null,
   "metadata": {},
   "outputs": [],
   "source": [
    "c = 0\n",
    "soma = 0\n",
    "while c <= 100:\n",
    "    c += 2\n",
    "    if c == 6 or c == 20 or c==88:\n",
    "        continue\n",
    "    soma += c\n",
    "\n",
    "print(soma)"
   ]
  },
  {
   "cell_type": "markdown",
   "metadata": {},
   "source": [
    "TRY - EXCEPT - ELSE - FINALLY\n",
    "\n",
    "Try: \n",
    "  Código\n",
    "\n",
    "Except: \n",
    "  Roda se o (try) der erro\n",
    "\n",
    "Else: \n",
    "  Roda se o (try) não der erro\n",
    "\n",
    "Finally: \n",
    "  Sempre roda"
   ]
  },
  {
   "cell_type": "code",
   "execution_count": null,
   "metadata": {},
   "outputs": [],
   "source": [
    "try:\n",
    "  b = 5\n",
    "  if b == 5:\n",
    "    raise Exception(\"Chama um print de erro\")\n",
    "\n",
    "# Só executa quando tem erro no try\n",
    "except (IndexError, ValueError, ZeroDivisionError, Exception) as e:   # o (e) é a msg de erro\n",
    "  pass\n",
    "\n",
    "# Só executa quando não tem erro no try\n",
    "else: \n",
    "  print(\"\")\n",
    "\n",
    "# Sempre executa\n",
    "finally:\n",
    "  print(\"\")"
   ]
  }
 ],
 "metadata": {
  "language_info": {
   "name": "python"
  }
 },
 "nbformat": 4,
 "nbformat_minor": 2
}
