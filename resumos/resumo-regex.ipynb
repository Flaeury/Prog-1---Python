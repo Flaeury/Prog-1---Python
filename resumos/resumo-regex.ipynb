{
 "cells": [
  {
   "cell_type": "markdown",
   "metadata": {},
   "source": [
    "Funções do Regex:\n",
    "\n",
    "sub: subtitui tudo que der match com a regex\n",
    "\n",
    "findall: retorna uma lista com todas as substrings que derem match\n",
    "\n",
    "search: retorna um objeto com a primeria substring que der match\n",
    "\n",
    "match: retorna um objeto match com a primeira substring\n",
    "\n",
    "fullmatch: retorna um objeto match se toda a string der match\n",
    "\n",
    "split: retorna uma lista de string com critério de quebra do match\n",
    "\n",
    "finditer: retorna um iteravel de objetos match se toda a substring der match"
   ]
  },
  {
   "cell_type": "markdown",
   "metadata": {},
   "source": [
    "Caracteres:\n",
    "\n",
    "[] = O que estará dentro para dar match\n",
    "\n",
    "[^] = Faz uma negação\n",
    "\n",
    ". = Qualquer caractere\n",
    "\n",
    "^[] = Deve começar\n",
    "\n",
    "[]$ = Deve terminar\n",
    "\n",
    "^[]$ = Inicia e termina\n",
    "\n",
    "* = Zero ou mais ocorrências\n",
    "  \n",
    "+ = Uma ou mais ocorrências\n",
    "\n",
    "? = Zero ou uma ocorrência\n",
    "\n",
    "{n} = n ocorrências\n",
    "\n",
    "{n,k} = Minímo n e máximo k ocorrências\n",
    "\n",
    "{n,} = Pelo menos n ocorrências\n",
    "\n",
    "{,k} = No máximo k ocorrências\n",
    "\n",
    "| = ou\n",
    "\n",
    "(?=) = match prefixo\n",
    "\n",
    "(?<=) = match sufixo"
   ]
  },
  {
   "cell_type": "markdown",
   "metadata": {},
   "source": [
    "Na aula:\n",
    "\n",
    "(r\"etc\") = Desconsidera caracteres especiais, apenas strings\n",
    "\n",
    "\\ = Tira símbolos especiais\n",
    "\n",
    "\\d = [0-9]\n",
    "\n",
    "\\D = Tudo que não for dígito\n",
    "\n",
    "\\w = Tudo que é letra, número e underline\n",
    "\n",
    "\\W = Tudo que não é letra, número e underline\n",
    "\n",
    "[]+ = Quando houver um ou mais, vai checando até achar um espaço\n",
    "\n",
    ". = Quebra\n",
    "\n",
    ".+ = Uma ou mais vezes\n",
    "\n",
    ".* = 0 ou mais vezes\n",
    "\n",
    "\\. = Achar um ponto\n",
    "\n",
    "\\s = Letras, números e espaços em branco\n",
    "\n",
    "\\\\ = Espaço em branco\n"
   ]
  },
  {
   "cell_type": "code",
   "execution_count": 1,
   "metadata": {},
   "outputs": [
    {
     "name": "stdout",
     "output_type": "stream",
     "text": [
      "93456________5\n",
      "93456________5\n"
     ]
    }
   ],
   "source": [
    "# Substituir um por outro: \n",
    "import re\n",
    "msg = \"93456 Renato 5\"\n",
    "regex = re.compile(r\"\\D\")\n",
    "saida = regex.sub(\"_\", msg)\n",
    "print(saida)\n",
    "\n",
    "# Ou\n",
    "\n",
    "saida = re.sub(r\"\\D\", '_', msg)\n",
    "print(saida)"
   ]
  },
  {
   "cell_type": "code",
   "execution_count": null,
   "metadata": {},
   "outputs": [],
   "source": [
    "# Encontrar os dígitos e armazenar numa lista\n",
    "import re\n",
    "msg = \"93456 Renato 5\"\n",
    "regex = re.compile(r\"[0-9]\")\n",
    "saida = regex.findall(msg)\n",
    "print(saida)"
   ]
  },
  {
   "cell_type": "code",
   "execution_count": null,
   "metadata": {},
   "outputs": [],
   "source": [
    "# Verificar se string começa com letra maiúscula, vem logo a primeira\n",
    "import re\n",
    "msg = \"Renato 5\"\n",
    "regex = re.compile(r\"^[A-Z]\")\n",
    "saida = regex.match(msg)\n",
    "print(saida)"
   ]
  },
  {
   "cell_type": "code",
   "execution_count": null,
   "metadata": {},
   "outputs": [],
   "source": [
    "# Termina com ponto ., busca o primeiro\n",
    "import re\n",
    "msg = \"Renato 5.\"\n",
    "regex = re.compile(r\"\\.$\")\n",
    "saida = regex.search(msg)\n",
    "print(saida)"
   ]
  },
  {
   "cell_type": "code",
   "execution_count": null,
   "metadata": {},
   "outputs": [],
   "source": [
    "# Acessar o índice\n",
    "import re\n",
    "msg = \"Renato 5.\"\n",
    "regex = re.compile(r\"\\.$\")\n",
    "saida = regex.search(msg)\n",
    "print(saida.span())\n",
    "\n",
    "# Acessando o valor\n",
    "import re\n",
    "msg = \"Renato 5?\"\n",
    "regex = re.compile(r\"[.!,?;]$\")\n",
    "saida = regex.search(msg)\n",
    "print(saida.group())"
   ]
  },
  {
   "cell_type": "code",
   "execution_count": null,
   "metadata": {},
   "outputs": [],
   "source": [
    "# Buscar palavra sucedida\n",
    "import re\n",
    "msg = \" 9 outro telefone onde te8\"\n",
    "saida = re.search(r\"\\w+(?=\\sonde)\", msg)\n",
    "print(saida)"
   ]
  },
  {
   "cell_type": "code",
   "execution_count": null,
   "metadata": {},
   "outputs": [],
   "source": [
    "import re\n",
    "# Coloca tratamento dos números\n",
    "msg = \"99 telefone 99 99269-9999\"\n",
    "saida = re.search(r\"(?<=tel )\\d{2} \\d{5}-\\d{4}\", msg) or\\\n",
    "        re.search(r\"(?<=telefone )\\d{2} \\d{5}-\\d{4}\", msg)\n",
    "print(saida)"
   ]
  }
 ],
 "metadata": {
  "kernelspec": {
   "display_name": "Python 3",
   "language": "python",
   "name": "python3"
  },
  "language_info": {
   "codemirror_mode": {
    "name": "ipython",
    "version": 3
   },
   "file_extension": ".py",
   "mimetype": "text/x-python",
   "name": "python",
   "nbconvert_exporter": "python",
   "pygments_lexer": "ipython3",
   "version": "3.11.6"
  }
 },
 "nbformat": 4,
 "nbformat_minor": 2
}
