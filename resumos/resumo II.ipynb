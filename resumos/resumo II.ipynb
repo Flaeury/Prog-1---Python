{
 "cells": [
  {
   "cell_type": "markdown",
   "metadata": {},
   "source": [
    "* ##### read - ler tudo\n",
    "* ##### readline - ler uma linha\n",
    "* ##### readlines - retorna uma lista"
   ]
  },
  {
   "cell_type": "code",
   "execution_count": null,
   "metadata": {
    "vscode": {
     "languageId": "plaintext"
    }
   },
   "outputs": [],
   "source": [
    "with open('NOME DO ARQUIVO', 'r', encoding=\"utf-8\") as f:"
   ]
  },
  {
   "cell_type": "markdown",
   "metadata": {},
   "source": [
    "* ##### 'r' -> PARA LER \n",
    "* ##### 'w' -> PARA SOBREESCREVER\n",
    "* ##### 'a' -> para CONCATENAR"
   ]
  }
 ],
 "metadata": {
  "language_info": {
   "name": "python"
  }
 },
 "nbformat": 4,
 "nbformat_minor": 2
}
