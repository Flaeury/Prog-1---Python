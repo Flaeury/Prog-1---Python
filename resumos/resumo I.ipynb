{
 "cells": [
  {
   "cell_type": "markdown",
   "metadata": {},
   "source": [
    "* #### sub: realiza a substituição de toda ocorrência que der match com a regex\n",
    "* #### findall: retorna uma lista com toda sbstring que der match com a regex\n",
    "* #### search: retorna um objeto Match com a primeira substring que der match com a regex\n",
    "* #### match: retorna um objeto Match com a primeira subtring que der match com a regex, a partir do início\n",
    "* #### fullmatch: retorna um objeto Match, se a string toda der match com a regex\n",
    "* #### split: retorna uma lista de string, tendo como critério  de quebra o match da regex\n",
    "* #### finditer: retorna um iterável de objetos Match, de toda substring que der match com a regex"
   ]
  },
  {
   "cell_type": "markdown",
   "metadata": {},
   "source": [
    "____________________________________________\n",
    "* ##### Try: Onde ocorrerá\n",
    "* ##### Except: Erro\n",
    "* ##### Else: Quando não houver erro\n",
    "* ##### Finally: sempre\n",
    "____________________________________________"
   ]
  },
  {
   "cell_type": "markdown",
   "metadata": {},
   "source": [
    "\n",
    "^ Fora: Começa com\n",
    "^ Dentro (Negação)\n",
    "\n",
    "(r\"\") -> desconsidera caracteres especiais, considera strings apenas. TER CERTEZA\n",
    "\n",
    "\\ : tira o simbolo especial\n",
    "\n",
    "\\d = [0-9]\n",
    "\n",
    "\\D = Tudo que não for um dígito\n",
    "\n",
    "\\w : Tudo que é letra, número e underline\n",
    "\n",
    "\\W : Tudo que não é letra , número e underline\n",
    "\n",
    "[]+ : quando houver um ou mais, vai checando até encontrar o máximo (TERMINA QUANDO TIVER UM ESPAÇO)\n",
    "[] : checa o que está dentro, podendo ser A-Z, a-z, 0-9,\n",
    "\n",
    ". : Quebra\n",
    ".+ : Uma ou mais vezes\n",
    ".* : 0 ou maiz vezes\n",
    "\n",
    "\\. : Localizar um ponto\n",
    "\n",
    "\\s : Letras ou númweoa e espaço em branco\n",
    "\n",
    "\\\\ : Espaço em branco\n",
    "\n",
    "^[]$ : Começa e termina\n",
    "\n",
    "\"\\d{3}\\.\\d{3}\\.\\d{3}-\\d{2}\"\n",
    "\n",
    "fullmatch(\"\\(\\d{2}\\)\\s9\\d{4}\", tel) -> (91) 94002-8922\n",
    "\n",
    "sub(\"[()\\s-]\", \"\", telefone) -> (91) 94002-8922\n",
    "\n",
    "sub(\"[^\\d]\", \"\", telefone) -> (91) 94002-8922\n",
    "____________________________________________"
   ]
  },
  {
   "cell_type": "markdown",
   "metadata": {},
   "source": [
    "e[aeiou]*i -> Começa com e, pode ter vogais sendo 0 ou mais e termina com i."
   ]
  },
  {
   "cell_type": "markdown",
   "metadata": {},
   "source": []
  }
 ],
 "metadata": {
  "language_info": {
   "name": "python"
  }
 },
 "nbformat": 4,
 "nbformat_minor": 2
}
