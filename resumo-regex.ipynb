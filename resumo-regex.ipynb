{
 "cells": [
  {
   "cell_type": "markdown",
   "metadata": {},
   "source": [
    "Funções do Regex:\n",
    "\n",
    "sub: subtitui tudo que der match com a regex\n",
    "\n",
    "findall: retorna uma lista com todas as substrings que derem match\n",
    "\n",
    "search: retorna um objeto com a primeria substring que der match\n",
    "\n",
    "match: retorna um objeto match com a primeira substring\n",
    "\n",
    "fullmatch: retorna um objeto match se toda a string der match\n",
    "\n",
    "split: retorna uma lista de string com critério de quebra do match\n",
    "\n",
    "finditer: retorna um iteravel de objetos match se toda a substring der match"
   ]
  },
  {
   "cell_type": "markdown",
   "metadata": {},
   "source": [
    "Caracteres:\n",
    "\n",
    "[] = O que estará dentro para dar match\n",
    "\n",
    "[^] = Faz uma negação\n",
    "\n",
    ". = Qualquer caractere\n",
    "\n",
    "^[] = Deve começar\n",
    "\n",
    "[]$ = Deve terminar\n",
    "\n",
    "^[]$ = Inicia e termina\n",
    "\n",
    "* = Zero ou mais ocorrências\n",
    "  \n",
    "+ = Uma ou mais ocorrências\n",
    "\n",
    "? = Zero ou uma ocorrência\n",
    "\n",
    "{n} = n ocorrências\n",
    "\n",
    "{n,k} = Minímo n e máximo k ocorrências\n",
    "\n",
    "{n,} = Pelo menos n ocorrências\n",
    "\n",
    "{,k} = No máximo k ocorrências\n",
    "\n",
    "| = ou\n",
    "\n",
    "(?=) = match prefixo\n",
    "\n",
    "(?<=) = match sufixo"
   ]
  },
  {
   "cell_type": "markdown",
   "metadata": {},
   "source": [
    "Na aula:\n",
    "\n",
    "(r\"etc\") = Desconsidera caracteres especiais, apenas strings\n",
    "\n",
    "\\ = Tira símbolos especiais\n",
    "\n",
    "\\d = [0-9]\n",
    "\n",
    "\\D = Tudo que não for dígito\n",
    "\n",
    "\\w = Tudo que é letra, número e underline\n",
    "\n",
    "\\W = Tudo que não é letra, número e underline\n",
    "\n",
    "[]+ = Quando houver um ou mais, vai checando até achar um espaço\n",
    "\n",
    ". = Quebra\n",
    "\n",
    ".+ = Uma ou mais vezes\n",
    "\n",
    ".* = 0 ou mais vezes\n",
    "\n",
    "\\. = Achar um ponto\n",
    "\n",
    "\\s = Letras, números e espaços em branco\n",
    "\n",
    "\\\\ = Espaço em branco\n"
   ]
  }
 ],
 "metadata": {
  "language_info": {
   "name": "python"
  }
 },
 "nbformat": 4,
 "nbformat_minor": 2
}
