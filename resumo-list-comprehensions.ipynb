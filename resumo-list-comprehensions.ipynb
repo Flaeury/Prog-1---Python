{
 "cells": [
  {
   "cell_type": "markdown",
   "metadata": {},
   "source": [
    "All: True se todos são true\n",
    "Any: True se pelo menos um for true\n",
    "\n",
    "-------------------------------------------------------\n",
    "\n",
    "FUNÇÕES:\n",
    "Anônima\n",
    "(lambda x:)\n",
    "(lambda parâmetros: o que ocorrerá)\n",
    "\n",
    "lista = list(map(lambda item: item**2, lista))\n",
    "produtos = dict(map(lambda item: (item, len(item)), produtos))\n",
    "\n",
    "-------------------------------------------------------\n",
    "\n",
    "Filter\n",
    "(A,B)\n",
    "(coleção filtrada, função que fará o filtro)\n",
    "\n",
    "lista = list(filter(filtro, lista))\n",
    "lista = list(filter(lambda item: type(item) is not str, lista))\n",
    "\n",
    "filtro = lambda item: type(item) is not str\n",
    "lista = ['Renato']\n",
    "lista = list(filter(filtro, lista))\n",
    "\n",
    "-------------------------------------------------------\n",
    "\n",
    "Reduce\n",
    "(A, B, C): \n",
    "(Função utilizada na redução, coleção iterada, valor inicial da variável)\n",
    "\n",
    "from functools import reduce\n",
    "\n",
    "lista = [1, 6]\n",
    "funcao = lambda soma, item: soma+item\n",
    "soma = reduce(funcao, lista, 0)\n",
    "\n",
    "print(soma)\n"
   ]
  },
  {
   "cell_type": "code",
   "execution_count": null,
   "metadata": {},
   "outputs": [],
   "source": [
    "lista = [1, 9]\n",
    "for indice, item in enumerate(lista):\n",
    "    if item % 2 == 0:\n",
    "        lista[indice] = item * 2\n",
    "    else:\n",
    "        lista[indice] = item / 2\n",
    "\n",
    "lista = [1, 9]\n",
    "lista = [item * 2 if item % 2 == 0 else item / 2 for item in lista]"
   ]
  },
  {
   "cell_type": "code",
   "execution_count": null,
   "metadata": {},
   "outputs": [],
   "source": [
    "lista = [\n",
    "    {\n",
    "      'e-mail': 'renatohidaka@gmail.com'\n",
    "    }\n",
    "]\n",
    "\n",
    "emails = []\n",
    "for item in lista:\n",
    "    emails.append(item['e-mail'])\n",
    "\n",
    "emails = [item['e-mail'] for item in lista]\n"
   ]
  },
  {
   "cell_type": "code",
   "execution_count": null,
   "metadata": {},
   "outputs": [],
   "source": [
    "# Uso de chaves\n",
    "\n",
    "produtos = ['leite', 'arros', 'feijão', 'trigo']\n",
    "quantidade = [10, 5, 12, 5]\n",
    "\n",
    "estoque = {chave: valor for chave, valor in zip(produtos, quantidade)}\n",
    "\n",
    "print(estoque)"
   ]
  },
  {
   "cell_type": "code",
   "execution_count": null,
   "metadata": {},
   "outputs": [],
   "source": [
    "# Dictionary Comprehensions\n",
    "\n",
    "produtos = ['leite', 'arros', 'feijão', 'trigo']\n",
    "quantidade = [10, 5, 12, 5]\n",
    "\n",
    "estoque = {chave: valor for chave, valor in zip(produtos, quantidade)}\n",
    "\n",
    "print(estoque)"
   ]
  },
  {
   "cell_type": "code",
   "execution_count": null,
   "metadata": {},
   "outputs": [],
   "source": [
    "# Filtro\n",
    "\n",
    "lista = ['Renato', 7, 17, 'Hidaka', 12, 9]\n",
    "\n",
    "for item in lista.copy():\n",
    "    if type(item) is str:\n",
    "        lista.remove(item)\n",
    "\n",
    "lista = [item for item in lista if type(item) is not str]\n",
    "print(lista)"
   ]
  },
  {
   "cell_type": "code",
   "execution_count": null,
   "metadata": {},
   "outputs": [],
   "source": [
    "# Chamando um dicionário\n",
    "\n",
    "cadastros = [\n",
    "    {\n",
    "      'nome': 'Renato Hidaka Torres',\n",
    "      'e-mail': 'renatohidaka@gmail.com'\n",
    "\n",
    "    }\n",
    "]\n",
    "\n",
    "cadastros = [item for item in cadastros if '@gmail' in item['e-mail']]\n",
    "print(*cadastros, sep='\\n')"
   ]
  }
 ],
 "metadata": {
  "language_info": {
   "name": "python"
  }
 },
 "nbformat": 4,
 "nbformat_minor": 2
}
