{
 "cells": [
  {
   "cell_type": "markdown",
   "metadata": {},
   "source": [
    "sep= : Separador\n",
    "end= : Muda o final\n",
    ":.3f : formata casas decimais"
   ]
  },
  {
   "cell_type": "markdown",
   "metadata": {},
   "source": [
    "Leitura de arquivos\n",
    "r = read\n",
    "w = write"
   ]
  },
  {
   "cell_type": "markdown",
   "metadata": {},
   "source": [
    "with open('arquivo', 'r' ou 'w', encoding=\"utf-8\") as f:\n",
    "    um = f.read()\n",
    "    dois = f.readline()\n",
    "    tres = f.write()\n",
    "\n",
    "print()"
   ]
  },
  {
   "cell_type": "code",
   "execution_count": null,
   "metadata": {},
   "outputs": [],
   "source": [
    "with open('arquivo', 'w', encoding=\"utf-8\") as f:\n",
    "    f.write('')\n",
    "    f.write('\\n')\n",
    "    f.write('')\n",
    "    \n",
    "with open('arquivo', 'r', encoding=\"utf-8\") as f:\n",
    "    a = f.read()\n",
    "    print()"
   ]
  }
 ],
 "metadata": {
  "language_info": {
   "name": "python"
  }
 },
 "nbformat": 4,
 "nbformat_minor": 2
}
